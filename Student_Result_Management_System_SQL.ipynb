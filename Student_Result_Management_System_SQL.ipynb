{
  "nbformat": 4,
  "nbformat_minor": 0,
  "metadata": {
    "colab": {
      "provenance": []
    },
    "kernelspec": {
      "name": "python3",
      "display_name": "Python 3"
    },
    "language_info": {
      "name": "python"
    }
  },
  "cells": [
    {
      "cell_type": "code",
      "execution_count": 1,
      "metadata": {
        "colab": {
          "base_uri": "https://localhost:8080/"
        },
        "id": "YG4f6tea9cnw",
        "outputId": "18919a37-9442-4ff2-b03a-17cdedda86fc"
      },
      "outputs": [
        {
          "output_type": "stream",
          "name": "stdout",
          "text": [
            "Database created and connected successfully.\n"
          ]
        }
      ],
      "source": [
        "import sqlite3\n",
        "\n",
        "# Connect to SQLite (in-memory for demo or use a file for persistent DB)\n",
        "conn = sqlite3.connect(\"student_results.db\")\n",
        "cursor = conn.cursor()\n",
        "print(\"Database created and connected successfully.\")\n"
      ]
    },
    {
      "cell_type": "code",
      "source": [
        "# Create Students Table\n",
        "cursor.execute(\"\"\"\n",
        "CREATE TABLE IF NOT EXISTS Students (\n",
        "    student_id INTEGER PRIMARY KEY,\n",
        "    name TEXT NOT NULL,\n",
        "    class TEXT\n",
        ")\n",
        "\"\"\")\n",
        "\n",
        "# Create Subjects Table\n",
        "cursor.execute(\"\"\"\n",
        "CREATE TABLE IF NOT EXISTS Subjects (\n",
        "    subject_id INTEGER PRIMARY KEY,\n",
        "    subject_name TEXT NOT NULL\n",
        ")\n",
        "\"\"\")\n",
        "\n",
        "# Create Results Table\n",
        "cursor.execute(\"\"\"\n",
        "CREATE TABLE IF NOT EXISTS Results (\n",
        "    result_id INTEGER PRIMARY KEY,\n",
        "    student_id INTEGER,\n",
        "    subject_id INTEGER,\n",
        "    marks INTEGER,\n",
        "    FOREIGN KEY(student_id) REFERENCES Students(student_id),\n",
        "    FOREIGN KEY(subject_id) REFERENCES Subjects(subject_id)\n",
        ")\n",
        "\"\"\")\n",
        "\n",
        "conn.commit()\n",
        "print(\"Tables created successfully.\")\n"
      ],
      "metadata": {
        "colab": {
          "base_uri": "https://localhost:8080/"
        },
        "id": "RSafUBJi9oMH",
        "outputId": "4af3749e-4c05-4ca8-e763-088b1ba2a4c1"
      },
      "execution_count": 2,
      "outputs": [
        {
          "output_type": "stream",
          "name": "stdout",
          "text": [
            "Tables created successfully.\n"
          ]
        }
      ]
    },
    {
      "cell_type": "code",
      "source": [
        "# Insert Students\n",
        "students = [\n",
        "    (1, \"Alice\", \"10-A\"),\n",
        "    (2, \"Bob\", \"10-A\"),\n",
        "    (3, \"Charlie\", \"10-B\")\n",
        "]\n",
        "cursor.executemany(\"INSERT OR IGNORE INTO Students VALUES (?, ?, ?)\", students)\n",
        "\n",
        "# Insert Subjects\n",
        "subjects = [\n",
        "    (101, \"Math\"),\n",
        "    (102, \"Science\"),\n",
        "    (103, \"English\")\n",
        "]\n",
        "cursor.executemany(\"INSERT OR IGNORE INTO Subjects VALUES (?, ?)\", subjects)\n",
        "\n",
        "# Insert Results\n",
        "results = [\n",
        "    (1, 1, 101, 85),\n",
        "    (2, 1, 102, 78),\n",
        "    (3, 2, 101, 90),\n",
        "    (4, 2, 102, 88),\n",
        "    (5, 3, 103, 92)\n",
        "]\n",
        "cursor.executemany(\"INSERT OR IGNORE INTO Results VALUES (?, ?, ?, ?)\", results)\n",
        "\n",
        "conn.commit()\n",
        "print(\"Sample data inserted.\")\n"
      ],
      "metadata": {
        "colab": {
          "base_uri": "https://localhost:8080/"
        },
        "id": "Ues-nTPF9sFO",
        "outputId": "3c2f00d8-2592-48ed-8e59-d3c3dea006f4"
      },
      "execution_count": 3,
      "outputs": [
        {
          "output_type": "stream",
          "name": "stdout",
          "text": [
            "Sample data inserted.\n"
          ]
        }
      ]
    },
    {
      "cell_type": "code",
      "source": [
        "query = \"\"\"\n",
        "SELECT\n",
        "    Students.name,\n",
        "    Students.class,\n",
        "    Subjects.subject_name,\n",
        "    Results.marks\n",
        "FROM Results\n",
        "JOIN Students ON Results.student_id = Students.student_id\n",
        "JOIN Subjects ON Results.subject_id = Subjects.subject_id\n",
        "ORDER BY Students.name\n",
        "\"\"\"\n",
        "\n",
        "cursor.execute(query)\n",
        "rows = cursor.fetchall()\n",
        "\n",
        "print(\"Student Results:\\n\")\n",
        "for row in rows:\n",
        "    print(f\"Name: {row[0]}, Class: {row[1]}, Subject: {row[2]}, Marks: {row[3]}\")\n"
      ],
      "metadata": {
        "colab": {
          "base_uri": "https://localhost:8080/"
        },
        "id": "bVD1U1YG9vBr",
        "outputId": "6abb4a43-8943-403e-a822-c07b1523a354"
      },
      "execution_count": 4,
      "outputs": [
        {
          "output_type": "stream",
          "name": "stdout",
          "text": [
            "Student Results:\n",
            "\n",
            "Name: Alice, Class: 10-A, Subject: Math, Marks: 85\n",
            "Name: Alice, Class: 10-A, Subject: Science, Marks: 78\n",
            "Name: Bob, Class: 10-A, Subject: Math, Marks: 90\n",
            "Name: Bob, Class: 10-A, Subject: Science, Marks: 88\n",
            "Name: Charlie, Class: 10-B, Subject: English, Marks: 92\n"
          ]
        }
      ]
    },
    {
      "cell_type": "code",
      "source": [
        "# Update marks for Bob in Science\n",
        "cursor.execute(\"\"\"\n",
        "UPDATE Results\n",
        "SET marks = 91\n",
        "WHERE student_id = 2 AND subject_id = 102\n",
        "\"\"\")\n",
        "conn.commit()\n",
        "print(\"Marks updated.\")\n"
      ],
      "metadata": {
        "colab": {
          "base_uri": "https://localhost:8080/"
        },
        "id": "pN6ZwWnR9z9K",
        "outputId": "28ce8db5-0299-4faf-b8d9-1246ca0c6b71"
      },
      "execution_count": 5,
      "outputs": [
        {
          "output_type": "stream",
          "name": "stdout",
          "text": [
            "Marks updated.\n"
          ]
        }
      ]
    },
    {
      "cell_type": "code",
      "source": [
        "query = \"\"\"\n",
        "SELECT\n",
        "    Students.name,\n",
        "    AVG(Results.marks) as average_marks\n",
        "FROM Results\n",
        "JOIN Students ON Results.student_id = Students.student_id\n",
        "GROUP BY Students.name\n",
        "\"\"\"\n",
        "\n",
        "cursor.execute(query)\n",
        "results = cursor.fetchall()\n",
        "\n",
        "print(\"Average Marks:\\n\")\n",
        "for name, avg in results:\n",
        "    print(f\"{name}: {avg:.2f}\")\n"
      ],
      "metadata": {
        "colab": {
          "base_uri": "https://localhost:8080/"
        },
        "id": "mVx4oEwT91Fe",
        "outputId": "483f953e-3957-4e4a-deea-e2d5724a588d"
      },
      "execution_count": 6,
      "outputs": [
        {
          "output_type": "stream",
          "name": "stdout",
          "text": [
            "Average Marks:\n",
            "\n",
            "Alice: 81.50\n",
            "Bob: 90.50\n",
            "Charlie: 92.00\n"
          ]
        }
      ]
    },
    {
      "cell_type": "code",
      "source": [
        "conn.close()\n",
        "print(\"Database connection closed.\")\n"
      ],
      "metadata": {
        "colab": {
          "base_uri": "https://localhost:8080/"
        },
        "id": "MBHXNI8t94bA",
        "outputId": "ecc9d709-f2a0-45a5-e983-7f170fe8dc8c"
      },
      "execution_count": 7,
      "outputs": [
        {
          "output_type": "stream",
          "name": "stdout",
          "text": [
            "Database connection closed.\n"
          ]
        }
      ]
    }
  ]
}